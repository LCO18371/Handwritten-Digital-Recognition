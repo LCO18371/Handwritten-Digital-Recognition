{
 "cells": [
  {
   "cell_type": "code",
   "execution_count": 1,
   "id": "8442590f",
   "metadata": {},
   "outputs": [],
   "source": [
    "import numpy as np\n",
    "import matplotlib.pyplot as plt\n",
    "import tensorflow as tf"
   ]
  },
  {
   "cell_type": "code",
   "execution_count": 2,
   "id": "5b28458d",
   "metadata": {},
   "outputs": [],
   "source": [
    "#MNIST dataset is made up of images of handwritten digits, 28x28 pixels in size and 10000 datasets.\n",
    "mnist = tf.keras.datasets.mnist\n",
    "(x_train,y_train) , (x_test,y_test) = mnist.load_data()\n"
   ]
  },
  {
   "cell_type": "code",
   "execution_count": 3,
   "id": "2d49a528",
   "metadata": {},
   "outputs": [
    {
     "data": {
      "text/plain": [
       "(10000, 28, 28)"
      ]
     },
     "execution_count": 3,
     "metadata": {},
     "output_type": "execute_result"
    }
   ],
   "source": [
    "x_test.shape\n"
   ]
  },
  {
   "cell_type": "code",
   "execution_count": 4,
   "id": "dc9ea79a",
   "metadata": {},
   "outputs": [
    {
     "data": {
      "text/plain": [
       "(10000,)"
      ]
     },
     "execution_count": 4,
     "metadata": {},
     "output_type": "execute_result"
    }
   ],
   "source": [
    "y_test.shape\n"
   ]
  },
  {
   "cell_type": "code",
   "execution_count": 5,
   "id": "343af47a",
   "metadata": {},
   "outputs": [
    {
     "data": {
      "text/plain": [
       "(60000, 28, 28)"
      ]
     },
     "execution_count": 5,
     "metadata": {},
     "output_type": "execute_result"
    }
   ],
   "source": [
    "x_train.shape\n"
   ]
  },
  {
   "cell_type": "code",
   "execution_count": 6,
   "id": "c2160f1e",
   "metadata": {},
   "outputs": [
    {
     "data": {
      "text/plain": [
       "(60000,)"
      ]
     },
     "execution_count": 6,
     "metadata": {},
     "output_type": "execute_result"
    }
   ],
   "source": [
    "y_train.shape"
   ]
  },
  {
   "cell_type": "code",
   "execution_count": 7,
   "id": "cd7df7de",
   "metadata": {},
   "outputs": [
    {
     "data": {
      "text/plain": [
       "<matplotlib.image.AxesImage at 0x18ebf552ee0>"
      ]
     },
     "execution_count": 7,
     "metadata": {},
     "output_type": "execute_result"
    },
    {
     "data": {
      "image/png": "[encoded data removed]",
      "text/plain": [
       "<Figure size 432x288 with 1 Axes>"
      ]
     },
     "metadata": {
      "needs_background": "light"
     },
     "output_type": "display_data"
    }
   ],
   "source": [
    "plt.imshow(x_train[0])"
   ]
  },
  {
   "cell_type": "code",
   "execution_count": 8,
   "id": "f2b678c4",
   "metadata": {},
   "outputs": [
    {
     "data": {
      "text/plain": [
       "<matplotlib.image.AxesImage at 0x18ebb719220>"
      ]
     },
     "execution_count": 8,
     "metadata": {},
     "output_type": "execute_result"
    },
    {
     "data": {
      "image/png": "[encoded data removed]",
      "text/plain": [
       "<Figure size 432x288 with 1 Axes>"
      ]
     },
     "metadata": {
      "needs_background": "light"
     },
     "output_type": "display_data"
    }
   ],
   "source": [
    "# if the image is color change it into binary image\n",
    "plt.show()\n",
    "plt.imshow(x_train[0],cmap=plt.cm.binary)"
   ]
  },
  {
   "cell_type": "code",
   "execution_count": 9,
   "id": "0be1c87b",
   "metadata": {},
   "outputs": [
    {
     "name": "stdout",
     "output_type": "stream",
     "text": [
      "[[  0   0   0   0   0   0   0   0   0   0   0   0   0   0   0   0   0   0\n",
      "    0   0   0   0   0   0   0   0   0   0]\n",
      " [  0   0   0   0   0   0   0   0   0   0   0   0   0   0   0   0   0   0\n",
      "    0   0   0   0   0   0   0   0   0   0]\n",
      " [  0   0   0   0   0   0   0   0   0   0   0   0   0   0   0   0   0   0\n",
      "    0   0   0   0   0   0   0   0   0   0]\n",
      " [  0   0   0   0   0   0   0   0   0   0   0   0   0   0   0   0   0   0\n",
      "    0   0   0   0   0   0   0   0   0   0]\n",
      " [  0   0   0   0   0   0   0   0   0   0   0   0   0   0   0   0   0   0\n",
      "    0   0   0   0   0   0   0   0   0   0]\n",
      " [  0   0   0   0   0   0   0   0   0   0   0   0   3  18  18  18 126 136\n",
      "  175  26 166 255 247 127   0   0   0   0]\n",
      " [  0   0   0   0   0   0   0   0  30  36  94 154 170 253 253 253 253 253\n",
      "  225 172 253 242 195  64   0   0   0   0]\n",
      " [  0   0   0   0   0   0   0  49 238 253 253 253 253 253 253 253 253 251\n",
      "   93  82  82  56  39   0   0   0   0   0]\n",
      " [  0   0   0   0   0   0   0  18 219 253 253 253 253 253 198 182 247 241\n",
      "    0   0   0   0   0   0   0   0   0   0]\n",
      " [  0   0   0   0   0   0   0   0  80 156 107 253 253 205  11   0  43 154\n",
      "    0   0   0   0   0   0   0   0   0   0]\n",
      " [  0   0   0   0   0   0   0   0   0  14   1 154 253  90   0   0   0   0\n",
      "    0   0   0   0   0   0   0   0   0   0]\n",
      " [  0   0   0   0   0   0   0   0   0   0   0 139 253 190   2   0   0   0\n",
      "    0   0   0   0   0   0   0   0   0   0]\n",
      " [  0   0   0   0   0   0   0   0   0   0   0  11 190 253  70   0   0   0\n",
      "    0   0   0   0   0   0   0   0   0   0]\n",
      " [  0   0   0   0   0   0   0   0   0   0   0   0  35 241 225 160 108   1\n",
      "    0   0   0   0   0   0   0   0   0   0]\n",
      " [  0   0   0   0   0   0   0   0   0   0   0   0   0  81 240 253 253 119\n",
      "   25   0   0   0   0   0   0   0   0   0]\n",
      " [  0   0   0   0   0   0   0   0   0   0   0   0   0   0  45 186 253 253\n",
      "  150  27   0   0   0   0   0   0   0   0]\n",
      " [  0   0   0   0   0   0   0   0   0   0   0   0   0   0   0  16  93 252\n",
      "  253 187   0   0   0   0   0   0   0   0]\n",
      " [  0   0   0   0   0   0   0   0   0   0   0   0   0   0   0   0   0 249\n",
      "  253 249  64   0   0   0   0   0   0   0]\n",
      " [  0   0   0   0   0   0   0   0   0   0   0   0   0   0  46 130 183 253\n",
      "  253 207   2   0   0   0   0   0   0   0]\n",
      " [  0   0   0   0   0   0   0   0   0   0   0   0  39 148 229 253 253 253\n",
      "  250 182   0   0   0   0   0   0   0   0]\n",
      " [  0   0   0   0   0   0   0   0   0   0  24 114 221 253 253 253 253 201\n",
      "   78   0   0   0   0   0   0   0   0   0]\n",
      " [  0   0   0   0   0   0   0   0  23  66 213 253 253 253 253 198  81   2\n",
      "    0   0   0   0   0   0   0   0   0   0]\n",
      " [  0   0   0   0   0   0  18 171 219 253 253 253 253 195  80   9   0   0\n",
      "    0   0   0   0   0   0   0   0   0   0]\n",
      " [  0   0   0   0  55 172 226 253 253 253 253 244 133  11   0   0   0   0\n",
      "    0   0   0   0   0   0   0   0   0   0]\n",
      " [  0   0   0   0 136 253 253 253 212 135 132  16   0   0   0   0   0   0\n",
      "    0   0   0   0   0   0   0   0   0   0]\n",
      " [  0   0   0   0   0   0   0   0   0   0   0   0   0   0   0   0   0   0\n",
      "    0   0   0   0   0   0   0   0   0   0]\n",
      " [  0   0   0   0   0   0   0   0   0   0   0   0   0   0   0   0   0   0\n",
      "    0   0   0   0   0   0   0   0   0   0]\n",
      " [  0   0   0   0   0   0   0   0   0   0   0   0   0   0   0   0   0   0\n",
      "    0   0   0   0   0   0   0   0   0   0]]\n"
     ]
    }
   ],
   "source": [
    "print(x_train[0])# before normalization"
   ]
  },
  {
   "cell_type": "code",
   "execution_count": 10,
   "id": "17fd8924",
   "metadata": {},
   "outputs": [],
   "source": [
    "# normalize the data\n",
    "x_train=tf.keras.utils.normalize(x_train,axis=1)"
   ]
  },
  {
   "cell_type": "code",
   "execution_count": 11,
   "id": "a6806c40",
   "metadata": {},
   "outputs": [],
   "source": [
    "x_test=tf.keras.utils.normalize(x_test,axis=1)"
   ]
  },
  {
   "cell_type": "code",
   "execution_count": 12,
   "id": "5a51acaf",
   "metadata": {},
   "outputs": [
    {
     "data": {
      "text/plain": [
       "<matplotlib.image.AxesImage at 0x18ebc0b2c70>"
      ]
     },
     "execution_count": 12,
     "metadata": {},
     "output_type": "execute_result"
    },
    {
     "data": {
      "image/png": "[encoded data removed]",
      "text/plain": [
       "<Figure size 432x288 with 1 Axes>"
      ]
     },
     "metadata": {
      "needs_background": "light"
     },
     "output_type": "display_data"
    }
   ],
   "source": [
    "plt.imshow(x_train[0],cmap=plt.cm.binary)"
   ]
  },
  {
   "cell_type": "code",
   "execution_count": 13,
   "id": "80c292ef",
   "metadata": {},
   "outputs": [
    {
     "name": "stdout",
     "output_type": "stream",
     "text": [
      "[[0.         0.         0.         0.         0.         0.\n",
      "  0.         0.         0.         0.         0.         0.\n",
      "  0.         0.         0.         0.         0.         0.\n",
      "  0.         0.         0.         0.         0.         0.\n",
      "  0.         0.         0.         0.        ]\n",
      " [0.         0.         0.         0.         0.         0.\n",
      "  0.         0.         0.         0.         0.         0.\n",
      "  0.         0.         0.         0.         0.         0.\n",
      "  0.         0.         0.         0.         0.         0.\n",
      "  0.         0.         0.         0.        ]\n",
      " [0.         0.         0.         0.         0.         0.\n",
      "  0.         0.         0.         0.         0.         0.\n",
      "  0.         0.         0.         0.         0.         0.\n",
      "  0.         0.         0.         0.         0.         0.\n",
      "  0.         0.         0.         0.        ]\n",
      " [0.         0.         0.         0.         0.         0.\n",
      "  0.         0.         0.         0.         0.         0.\n",
      "  0.         0.         0.         0.         0.         0.\n",
      "  0.         0.         0.         0.         0.         0.\n",
      "  0.         0.         0.         0.        ]\n",
      " [0.         0.         0.         0.         0.         0.\n",
      "  0.         0.         0.         0.         0.         0.\n",
      "  0.         0.         0.         0.         0.         0.\n",
      "  0.         0.         0.         0.         0.         0.\n",
      "  0.         0.         0.         0.        ]\n",
      " [0.         0.         0.         0.         0.         0.\n",
      "  0.         0.         0.         0.         0.         0.\n",
      "  0.00393124 0.02332955 0.02620568 0.02625207 0.17420356 0.17566281\n",
      "  0.28629534 0.05664824 0.51877786 0.71632322 0.77892406 0.89301644\n",
      "  0.         0.         0.         0.        ]\n",
      " [0.         0.         0.         0.         0.         0.\n",
      "  0.         0.         0.05780486 0.06524513 0.16128198 0.22713296\n",
      "  0.22277047 0.32790981 0.36833534 0.3689874  0.34978968 0.32678448\n",
      "  0.368094   0.3747499  0.79066747 0.67980478 0.61494005 0.45002403\n",
      "  0.         0.         0.         0.        ]\n",
      " [0.         0.         0.         0.         0.         0.\n",
      "  0.         0.12250613 0.45858525 0.45852825 0.43408872 0.37314701\n",
      "  0.33153488 0.32790981 0.36833534 0.3689874  0.34978968 0.32420121\n",
      "  0.15214552 0.17865984 0.25626376 0.1573102  0.12298801 0.\n",
      "  0.         0.         0.         0.        ]\n",
      " [0.         0.         0.         0.         0.         0.\n",
      "  0.         0.04500225 0.4219755  0.45852825 0.43408872 0.37314701\n",
      "  0.33153488 0.32790981 0.28826244 0.26543758 0.34149427 0.31128482\n",
      "  0.         0.         0.         0.         0.         0.\n",
      "  0.         0.         0.         0.        ]\n",
      " [0.         0.         0.         0.         0.         0.\n",
      "  0.         0.         0.1541463  0.28272888 0.18358693 0.37314701\n",
      "  0.33153488 0.26569767 0.01601458 0.         0.05945042 0.19891229\n",
      "  0.         0.         0.         0.         0.         0.\n",
      "  0.         0.         0.         0.        ]\n",
      " [0.         0.         0.         0.         0.         0.\n",
      "  0.         0.         0.         0.0253731  0.00171577 0.22713296\n",
      "  0.33153488 0.11664776 0.         0.         0.         0.\n",
      "  0.         0.         0.         0.         0.         0.\n",
      "  0.         0.         0.         0.        ]\n",
      " [0.         0.         0.         0.         0.         0.\n",
      "  0.         0.         0.         0.         0.         0.20500962\n",
      "  0.33153488 0.24625638 0.00291174 0.         0.         0.\n",
      "  0.         0.         0.         0.         0.         0.\n",
      "  0.         0.         0.         0.        ]\n",
      " [0.         0.         0.         0.         0.         0.\n",
      "  0.         0.         0.         0.         0.         0.01622378\n",
      "  0.24897876 0.32790981 0.10191096 0.         0.         0.\n",
      "  0.         0.         0.         0.         0.         0.\n",
      "  0.         0.         0.         0.        ]\n",
      " [0.         0.         0.         0.         0.         0.\n",
      "  0.         0.         0.         0.         0.         0.\n",
      "  0.04586451 0.31235677 0.32757096 0.23335172 0.14931733 0.00129164\n",
      "  0.         0.         0.         0.         0.         0.\n",
      "  0.         0.         0.         0.        ]\n",
      " [0.         0.         0.         0.         0.         0.\n",
      "  0.         0.         0.         0.         0.         0.\n",
      "  0.         0.10498298 0.34940902 0.3689874  0.34978968 0.15370495\n",
      "  0.04089933 0.         0.         0.         0.         0.\n",
      "  0.         0.         0.         0.        ]\n",
      " [0.         0.         0.         0.         0.         0.\n",
      "  0.         0.         0.         0.         0.         0.\n",
      "  0.         0.         0.06551419 0.27127137 0.34978968 0.32678448\n",
      "  0.245396   0.05882702 0.         0.         0.         0.\n",
      "  0.         0.         0.         0.        ]\n",
      " [0.         0.         0.         0.         0.         0.\n",
      "  0.         0.         0.         0.         0.         0.\n",
      "  0.         0.         0.         0.02333517 0.12857881 0.32549285\n",
      "  0.41390126 0.40743158 0.         0.         0.         0.\n",
      "  0.         0.         0.         0.        ]\n",
      " [0.         0.         0.         0.         0.         0.\n",
      "  0.         0.         0.         0.         0.         0.\n",
      "  0.         0.         0.         0.         0.         0.32161793\n",
      "  0.41390126 0.54251585 0.20001074 0.         0.         0.\n",
      "  0.         0.         0.         0.        ]\n",
      " [0.         0.         0.         0.         0.         0.\n",
      "  0.         0.         0.         0.         0.         0.\n",
      "  0.         0.         0.06697006 0.18959827 0.25300993 0.32678448\n",
      "  0.41390126 0.45100715 0.00625034 0.         0.         0.\n",
      "  0.         0.         0.         0.        ]\n",
      " [0.         0.         0.         0.         0.         0.\n",
      "  0.         0.         0.         0.         0.         0.\n",
      "  0.05110617 0.19182076 0.33339444 0.3689874  0.34978968 0.32678448\n",
      "  0.40899334 0.39653769 0.         0.         0.         0.\n",
      "  0.         0.         0.         0.        ]\n",
      " [0.         0.         0.         0.         0.         0.\n",
      "  0.         0.         0.         0.         0.04117838 0.16813739\n",
      "  0.28960162 0.32790981 0.36833534 0.3689874  0.34978968 0.25961929\n",
      "  0.12760592 0.         0.         0.         0.         0.\n",
      "  0.         0.         0.         0.        ]\n",
      " [0.         0.         0.         0.         0.         0.\n",
      "  0.         0.         0.04431706 0.11961607 0.36545809 0.37314701\n",
      "  0.33153488 0.32790981 0.36833534 0.28877275 0.111988   0.00258328\n",
      "  0.         0.         0.         0.         0.         0.\n",
      "  0.         0.         0.         0.        ]\n",
      " [0.         0.         0.         0.         0.         0.\n",
      "  0.05298497 0.42752138 0.4219755  0.45852825 0.43408872 0.37314701\n",
      "  0.33153488 0.25273681 0.11646967 0.01312603 0.         0.\n",
      "  0.         0.         0.         0.         0.         0.\n",
      "  0.         0.         0.         0.        ]\n",
      " [0.         0.         0.         0.         0.37491383 0.56222061\n",
      "  0.66525569 0.63253163 0.48748768 0.45852825 0.43408872 0.359873\n",
      "  0.17428513 0.01425695 0.         0.         0.         0.\n",
      "  0.         0.         0.         0.         0.         0.\n",
      "  0.         0.         0.         0.        ]\n",
      " [0.         0.         0.         0.         0.92705966 0.82698729\n",
      "  0.74473314 0.63253163 0.4084877  0.24466922 0.22648107 0.02359823\n",
      "  0.         0.         0.         0.         0.         0.\n",
      "  0.         0.         0.         0.         0.         0.\n",
      "  0.         0.         0.         0.        ]\n",
      " [0.         0.         0.         0.         0.         0.\n",
      "  0.         0.         0.         0.         0.         0.\n",
      "  0.         0.         0.         0.         0.         0.\n",
      "  0.         0.         0.         0.         0.         0.\n",
      "  0.         0.         0.         0.        ]\n",
      " [0.         0.         0.         0.         0.         0.\n",
      "  0.         0.         0.         0.         0.         0.\n",
      "  0.         0.         0.         0.         0.         0.\n",
      "  0.         0.         0.         0.         0.         0.\n",
      "  0.         0.         0.         0.        ]\n",
      " [0.         0.         0.         0.         0.         0.\n",
      "  0.         0.         0.         0.         0.         0.\n",
      "  0.         0.         0.         0.         0.         0.\n",
      "  0.         0.         0.         0.         0.         0.\n",
      "  0.         0.         0.         0.        ]]\n"
     ]
    }
   ],
   "source": [
    "#after normalization( data b/w 0 & 1)\n",
    "print(x_train[0])"
   ]
  },
  {
   "cell_type": "code",
   "execution_count": 14,
   "id": "96a7fc28",
   "metadata": {},
   "outputs": [
    {
     "name": "stdout",
     "output_type": "stream",
     "text": [
      "5\n"
     ]
    }
   ],
   "source": [
    "print(y_train[0])# labels inside our network (values in x axis)"
   ]
  },
  {
   "cell_type": "code",
   "execution_count": 15,
   "id": "500dcee9",
   "metadata": {},
   "outputs": [],
   "source": [
    "#resizing image \n",
    "img_size=28\n",
    "\n",
    "x_train=np.array(x_train).reshape(-1,img_size,img_size,1)\n",
    "x_test=np.array(x_test).reshape(-1,img_size,img_size,1)\n"
   ]
  },
  {
   "cell_type": "code",
   "execution_count": 16,
   "id": "1f9b4557",
   "metadata": {},
   "outputs": [
    {
     "name": "stdout",
     "output_type": "stream",
     "text": [
      "Training sample dimensions (60000, 28, 28, 1)\n",
      "Testing sample dimensions (10000, 28, 28, 1)\n"
     ]
    }
   ],
   "source": [
    "print(\"Training sample dimensions\",x_train.shape)\n",
    "print(\"Testing sample dimensions\",x_test.shape)\n"
   ]
  },
  {
   "cell_type": "code",
   "execution_count": 17,
   "id": "323aba1d",
   "metadata": {},
   "outputs": [],
   "source": [
    "# Train 60000 samples of MNIST handwritten datasets\n",
    "from tensorflow.keras.models import Sequential\n"
   ]
  },
  {
   "cell_type": "code",
   "execution_count": 18,
   "id": "57028665",
   "metadata": {},
   "outputs": [],
   "source": [
    "from tensorflow.keras.layers import Dense,Dropout,Activation,Flatten,Conv2D,MaxPooling2D"
   ]
  },
  {
   "cell_type": "code",
   "execution_count": 19,
   "id": "364b31d7",
   "metadata": {},
   "outputs": [],
   "source": [
    "model= Sequential()\n",
    "model.add(Conv2D(64,(3,3),input_shape =x_train.shape[1:]))\n",
    "model.add(Activation(\"relu\"))\n",
    "model.add(MaxPooling2D(pool_size=(2,2)))\n",
    "\n",
    "model.add(Conv2D(64,(3,3)))\n",
    "model.add(Activation(\"relu\"))\n",
    "model.add(MaxPooling2D(pool_size=(2,2)))\n",
    "\n",
    "model.add(Conv2D(64,(3,3)))\n",
    "model.add(Activation(\"relu\"))\n",
    "model.add(MaxPooling2D(pool_size=(2,2)))\n",
    "\n",
    "model.add(Flatten())\n",
    "model.add(Dense(64))\n",
    "model.add(Activation(\"relu\"))\n",
    "\n",
    "model.add(Dense(32))\n",
    "model.add(Activation(\"relu\"))\n",
    "          \n",
    "model.add(Dense(10))\n",
    "model.add(Activation(\"softmax\"))"
   ]
  },
  {
   "cell_type": "code",
   "execution_count": 20,
   "id": "bfb1b202",
   "metadata": {
    "scrolled": true
   },
   "outputs": [
    {
     "name": "stdout",
     "output_type": "stream",
     "text": [
      "Model: \"sequential\"\n",
      "_________________________________________________________________\n",
      "Layer (type)                 Output Shape              Param #   \n",
      "=================================================================\n",
      "conv2d (Conv2D)              (None, 26, 26, 64)        640       \n",
      "_________________________________________________________________\n",
      "activation (Activation)      (None, 26, 26, 64)        0         \n",
      "_________________________________________________________________\n",
      "max_pooling2d (MaxPooling2D) (None, 13, 13, 64)        0         \n",
      "_________________________________________________________________\n",
      "conv2d_1 (Conv2D)            (None, 11, 11, 64)        36928     \n",
      "_________________________________________________________________\n",
      "activation_1 (Activation)    (None, 11, 11, 64)        0         \n",
      "_________________________________________________________________\n",
      "max_pooling2d_1 (MaxPooling2 (None, 5, 5, 64)          0         \n",
      "_________________________________________________________________\n",
      "conv2d_2 (Conv2D)            (None, 3, 3, 64)          36928     \n",
      "_________________________________________________________________\n",
      "activation_2 (Activation)    (None, 3, 3, 64)          0         \n",
      "_________________________________________________________________\n",
      "max_pooling2d_2 (MaxPooling2 (None, 1, 1, 64)          0         \n",
      "_________________________________________________________________\n",
      "flatten (Flatten)            (None, 64)                0         \n",
      "_________________________________________________________________\n",
      "dense (Dense)                (None, 64)                4160      \n",
      "_________________________________________________________________\n",
      "activation_3 (Activation)    (None, 64)                0         \n",
      "_________________________________________________________________\n",
      "dense_1 (Dense)              (None, 32)                2080      \n",
      "_________________________________________________________________\n",
      "activation_4 (Activation)    (None, 32)                0         \n",
      "_________________________________________________________________\n",
      "dense_2 (Dense)              (None, 10)                330       \n",
      "_________________________________________________________________\n",
      "activation_5 (Activation)    (None, 10)                0         \n",
      "=================================================================\n",
      "Total params: 81,066\n",
      "Trainable params: 81,066\n",
      "Non-trainable params: 0\n",
      "_________________________________________________________________\n"
     ]
    }
   ],
   "source": [
    "model.summary()"
   ]
  },
  {
   "cell_type": "code",
   "execution_count": 21,
   "id": "2ab5cbc5",
   "metadata": {},
   "outputs": [
    {
     "name": "stdout",
     "output_type": "stream",
     "text": [
      "Total training samples=  60000\n"
     ]
    }
   ],
   "source": [
    "print(\"Total training samples= \", len(x_train))"
   ]
  },
  {
   "cell_type": "code",
   "execution_count": 22,
   "id": "ab15acee",
   "metadata": {},
   "outputs": [],
   "source": [
    "model.compile(optimizer='adam',\n",
    "              loss='sparse_categorical_crossentropy',\n",
    "              metrics=['accuracy'])"
   ]
  },
  {
   "cell_type": "code",
   "execution_count": 23,
   "id": "74b1f373",
   "metadata": {
    "scrolled": true
   },
   "outputs": [
    {
     "name": "stdout",
     "output_type": "stream",
     "text": [
      "Epoch 1/5\n",
      "42000/42000 [==============================] - 140s 3ms/step - loss: 0.2220 - accuracy: 0.9344 - val_loss: 0.0971 - val_accuracy: 0.9726\n",
      "Epoch 2/5\n",
      "42000/42000 [==============================] - 148s 4ms/step - loss: 0.1149 - accuracy: 0.9695 - val_loss: 0.1200 - val_accuracy: 0.9689\n",
      "Epoch 3/5\n",
      "42000/42000 [==============================] - 136s 3ms/step - loss: 0.1019 - accuracy: 0.9749 - val_loss: 0.3742 - val_accuracy: 0.9596\n",
      "Epoch 4/5\n",
      "42000/42000 [==============================] - 134s 3ms/step - loss: 0.0970 - accuracy: 0.9762 - val_loss: 0.1035 - val_accuracy: 0.9764\n",
      "Epoch 5/5\n",
      "42000/42000 [==============================] - 137s 3ms/step - loss: 0.0935 - accuracy: 0.9771 - val_loss: 0.1021 - val_accuracy: 0.9789\n"
     ]
    },
    {
     "data": {
      "text/plain": [
       "<tensorflow.python.keras.callbacks.History at 0x18ebc2d7a60>"
      ]
     },
     "execution_count": 23,
     "metadata": {},
     "output_type": "execute_result"
    }
   ],
   "source": [
    "model.fit(x_train, y_train, epochs=5,validation_split=0.3, batch_size = 1 )\n"
   ]
  },
  {
   "cell_type": "code",
   "execution_count": 24,
   "id": "f27a4feb",
   "metadata": {},
   "outputs": [
    {
     "name": "stdout",
     "output_type": "stream",
     "text": [
      "313/313 [==============================] - 3s 9ms/step - loss: 0.1097 - accuracy: 0.9797\n",
      "Test loss on 10000 test samples 0.10967689007520676\n",
      "valisation accuracy on 10000 test samples 0.9797000288963318\n"
     ]
    }
   ],
   "source": [
    "test_loss,test_acc=model.evaluate(x_test,y_test)\n",
    "print(\"Test loss on 10000 test samples\",test_loss)\n",
    "print(\"valisation accuracy on 10000 test samples\",test_acc)"
   ]
  },
  {
   "cell_type": "code",
   "execution_count": 25,
   "id": "f4ea8660",
   "metadata": {},
   "outputs": [],
   "source": [
    "predictions=model.predict(x_test)"
   ]
  },
  {
   "cell_type": "code",
   "execution_count": 26,
   "id": "2fa75b87",
   "metadata": {},
   "outputs": [
    {
     "name": "stdout",
     "output_type": "stream",
     "text": [
      "[[3.35557675e-32 2.62298093e-19 5.48516782e-18 ... 1.00000000e+00\n",
      "  5.57302335e-22 9.19684891e-22]\n",
      " [5.03405445e-16 1.28108791e-18 1.00000000e+00 ... 1.44717225e-08\n",
      "  2.21683652e-12 1.53321824e-21]\n",
      " [2.25767287e-38 1.00000000e+00 0.00000000e+00 ... 1.03865752e-31\n",
      "  2.59466233e-31 9.36275020e-32]\n",
      " ...\n",
      " [3.39521678e-20 1.14189905e-18 1.35496386e-17 ... 7.45194639e-17\n",
      "  2.06838210e-11 2.08018894e-10]\n",
      " [5.53814163e-14 5.14329946e-16 3.27609481e-17 ... 8.64990037e-21\n",
      "  2.61743835e-08 1.05120135e-09]\n",
      " [9.39960665e-10 6.55608380e-12 3.09433094e-19 ... 1.84580825e-33\n",
      "  7.18739401e-10 1.64789596e-13]]\n"
     ]
    }
   ],
   "source": [
    "print(predictions)"
   ]
  },
  {
   "cell_type": "code",
   "execution_count": 27,
   "id": "aa561c5c",
   "metadata": {},
   "outputs": [
    {
     "name": "stdout",
     "output_type": "stream",
     "text": [
      "7\n"
     ]
    }
   ],
   "source": [
    "print(np.argmax(predictions[0]))"
   ]
  },
  {
   "cell_type": "code",
   "execution_count": 28,
   "id": "e6f3ba8f",
   "metadata": {},
   "outputs": [
    {
     "name": "stdout",
     "output_type": "stream",
     "text": [
      "lable ->  7\n",
      "prediction ->  7\n"
     ]
    },
    {
     "data": {
      "text/plain": [
       "<matplotlib.image.AxesImage at 0x18ebda2fa30>"
      ]
     },
     "execution_count": 28,
     "metadata": {},
     "output_type": "execute_result"
    },
    {
     "data": {
      "image/png": "[encoded data removed]",
      "text/plain": [
       "<Figure size 432x288 with 1 Axes>"
      ]
     },
     "metadata": {
      "needs_background": "light"
     },
     "output_type": "display_data"
    }
   ],
   "source": [
    "  \n",
    "print('lable -> ',y_test[0])\n",
    "print('prediction -> ',np.argmax(predictions[0]))\n",
    "plt.imshow(x_test[0])"
   ]
  },
  {
   "cell_type": "code",
   "execution_count": 29,
   "id": "fb21d607",
   "metadata": {},
   "outputs": [],
   "source": [
    "import cv2"
   ]
  },
  {
   "cell_type": "code",
   "execution_count": 30,
   "id": "629cc193",
   "metadata": {},
   "outputs": [],
   "source": [
    "img=cv2.imread('C:/Users/chand/OneDrive/Documents/eight.png')"
   ]
  },
  {
   "cell_type": "code",
   "execution_count": 31,
   "id": "06c9d5c2",
   "metadata": {},
   "outputs": [
    {
     "data": {
      "text/plain": [
       "<matplotlib.image.AxesImage at 0x18ebdc5c580>"
      ]
     },
     "execution_count": 31,
     "metadata": {},
     "output_type": "execute_result"
    },
    {
     "data": {
      "image/png": "[encoded data removed]",
      "text/plain": [
       "<Figure size 432x288 with 1 Axes>"
      ]
     },
     "metadata": {
      "needs_background": "light"
     },
     "output_type": "display_data"
    }
   ],
   "source": [
    "plt.imshow(img)"
   ]
  },
  {
   "cell_type": "code",
   "execution_count": 32,
   "id": "a5dd6277",
   "metadata": {},
   "outputs": [
    {
     "data": {
      "text/plain": [
       "(648, 1152, 3)"
      ]
     },
     "execution_count": 32,
     "metadata": {},
     "output_type": "execute_result"
    }
   ],
   "source": [
    "img.shape"
   ]
  },
  {
   "cell_type": "code",
   "execution_count": 33,
   "id": "f1e9df4b",
   "metadata": {},
   "outputs": [],
   "source": [
    "gray=cv2.cvtColor(img,cv2.COLOR_BGR2GRAY)"
   ]
  },
  {
   "cell_type": "code",
   "execution_count": 34,
   "id": "5f3368ed",
   "metadata": {},
   "outputs": [
    {
     "data": {
      "text/plain": [
       "(648, 1152)"
      ]
     },
     "execution_count": 34,
     "metadata": {},
     "output_type": "execute_result"
    }
   ],
   "source": [
    "gray.shape"
   ]
  },
  {
   "cell_type": "code",
   "execution_count": 35,
   "id": "dcf43899",
   "metadata": {},
   "outputs": [],
   "source": [
    "resized=cv2.resize(gray,(28,28),interpolation=cv2.INTER_AREA)"
   ]
  },
  {
   "cell_type": "code",
   "execution_count": 36,
   "id": "7c5ecf08",
   "metadata": {},
   "outputs": [
    {
     "data": {
      "text/plain": [
       "(28, 28)"
      ]
     },
     "execution_count": 36,
     "metadata": {},
     "output_type": "execute_result"
    }
   ],
   "source": [
    "resized.shape"
   ]
  },
  {
   "cell_type": "code",
   "execution_count": 37,
   "id": "87734376",
   "metadata": {},
   "outputs": [],
   "source": [
    "new=tf.keras.utils.normalize(resized,axis=1)"
   ]
  },
  {
   "cell_type": "code",
   "execution_count": 38,
   "id": "1f423dee",
   "metadata": {},
   "outputs": [],
   "source": [
    "new=np.array(new).reshape(-1,28,28,1)"
   ]
  },
  {
   "cell_type": "code",
   "execution_count": 39,
   "id": "f4433a8e",
   "metadata": {},
   "outputs": [
    {
     "data": {
      "text/plain": [
       "(1, 28, 28, 1)"
      ]
     },
     "execution_count": 39,
     "metadata": {},
     "output_type": "execute_result"
    }
   ],
   "source": [
    "new.shape"
   ]
  },
  {
   "cell_type": "code",
   "execution_count": 40,
   "id": "5560a6c1",
   "metadata": {},
   "outputs": [],
   "source": [
    "predictions= model.predict(new)"
   ]
  },
  {
   "cell_type": "code",
   "execution_count": 44,
   "id": "85ee85a5",
   "metadata": {},
   "outputs": [
    {
     "name": "stdout",
     "output_type": "stream",
     "text": [
      "0\n"
     ]
    }
   ],
   "source": [
    "print(np.argmax(predictions))"
   ]
  },
  {
   "cell_type": "code",
   "execution_count": 45,
   "id": "a1afeea3",
   "metadata": {},
   "outputs": [
    {
     "name": "stdout",
     "output_type": "stream",
     "text": [
      "1\n",
      "<class 'numpy.int64'>\n",
      "1\n",
      "<class 'numpy.int64'>\n",
      "1\n",
      "<class 'numpy.int64'>\n",
      "1\n",
      "<class 'numpy.int64'>\n",
      "1\n",
      "<class 'numpy.int64'>\n",
      "1\n",
      "<class 'numpy.int64'>\n",
      "1\n",
      "<class 'numpy.int64'>\n",
      "1\n",
      "<class 'numpy.int64'>\n",
      "1\n",
      "<class 'numpy.int64'>\n",
      "1\n",
      "<class 'numpy.int64'>\n",
      "1\n",
      "<class 'numpy.int64'>\n",
      "1\n",
      "<class 'numpy.int64'>\n",
      "1\n",
      "<class 'numpy.int64'>\n",
      "1\n",
      "<class 'numpy.int64'>\n",
      "1\n",
      "<class 'numpy.int64'>\n",
      "1\n",
      "<class 'numpy.int64'>\n",
      "1\n",
      "<class 'numpy.int64'>\n",
      "1\n",
      "<class 'numpy.int64'>\n",
      "1\n",
      "<class 'numpy.int64'>\n",
      "1\n",
      "<class 'numpy.int64'>\n",
      "1\n",
      "<class 'numpy.int64'>\n",
      "1\n",
      "<class 'numpy.int64'>\n",
      "1\n",
      "<class 'numpy.int64'>\n",
      "1\n",
      "<class 'numpy.int64'>\n",
      "1\n",
      "<class 'numpy.int64'>\n",
      "1\n",
      "<class 'numpy.int64'>\n",
      "1\n",
      "<class 'numpy.int64'>\n",
      "1\n",
      "<class 'numpy.int64'>\n",
      "1\n",
      "<class 'numpy.int64'>\n",
      "1\n",
      "<class 'numpy.int64'>\n",
      "1\n",
      "<class 'numpy.int64'>\n",
      "1\n",
      "<class 'numpy.int64'>\n",
      "1\n",
      "<class 'numpy.int64'>\n",
      "5\n",
      "<class 'numpy.int64'>\n",
      "1\n",
      "<class 'numpy.int64'>\n",
      "5\n",
      "<class 'numpy.int64'>\n",
      "5\n",
      "<class 'numpy.int64'>\n",
      "5\n",
      "<class 'numpy.int64'>\n",
      "5\n",
      "<class 'numpy.int64'>\n",
      "5\n",
      "<class 'numpy.int64'>\n",
      "5\n",
      "<class 'numpy.int64'>\n",
      "1\n",
      "<class 'numpy.int64'>\n",
      "1\n",
      "<class 'numpy.int64'>\n",
      "1\n",
      "<class 'numpy.int64'>\n",
      "1\n",
      "<class 'numpy.int64'>\n",
      "1\n",
      "<class 'numpy.int64'>\n",
      "1\n",
      "<class 'numpy.int64'>\n",
      "1\n",
      "<class 'numpy.int64'>\n",
      "1\n",
      "<class 'numpy.int64'>\n",
      "1\n",
      "<class 'numpy.int64'>\n",
      "1\n",
      "<class 'numpy.int64'>\n",
      "1\n",
      "<class 'numpy.int64'>\n",
      "1\n",
      "<class 'numpy.int64'>\n",
      "1\n",
      "<class 'numpy.int64'>\n",
      "1\n",
      "<class 'numpy.int64'>\n",
      "1\n",
      "<class 'numpy.int64'>\n",
      "1\n",
      "<class 'numpy.int64'>\n",
      "1\n",
      "<class 'numpy.int64'>\n",
      "1\n",
      "<class 'numpy.int64'>\n",
      "1\n",
      "<class 'numpy.int64'>\n",
      "1\n",
      "<class 'numpy.int64'>\n",
      "1\n",
      "<class 'numpy.int64'>\n",
      "1\n",
      "<class 'numpy.int64'>\n",
      "1\n",
      "<class 'numpy.int64'>\n",
      "1\n",
      "<class 'numpy.int64'>\n",
      "1\n",
      "<class 'numpy.int64'>\n",
      "1\n",
      "<class 'numpy.int64'>\n",
      "1\n",
      "<class 'numpy.int64'>\n",
      "1\n",
      "<class 'numpy.int64'>\n",
      "1\n",
      "<class 'numpy.int64'>\n",
      "1\n",
      "<class 'numpy.int64'>\n",
      "1\n",
      "<class 'numpy.int64'>\n",
      "1\n",
      "<class 'numpy.int64'>\n",
      "1\n",
      "<class 'numpy.int64'>\n",
      "1\n",
      "<class 'numpy.int64'>\n",
      "1\n",
      "<class 'numpy.int64'>\n",
      "1\n",
      "<class 'numpy.int64'>\n",
      "1\n",
      "<class 'numpy.int64'>\n",
      "1\n",
      "<class 'numpy.int64'>\n",
      "1\n",
      "<class 'numpy.int64'>\n",
      "1\n",
      "<class 'numpy.int64'>\n",
      "1\n",
      "<class 'numpy.int64'>\n",
      "1\n",
      "<class 'numpy.int64'>\n",
      "1\n",
      "<class 'numpy.int64'>\n",
      "1\n",
      "<class 'numpy.int64'>\n",
      "1\n",
      "<class 'numpy.int64'>\n",
      "1\n",
      "<class 'numpy.int64'>\n",
      "1\n",
      "<class 'numpy.int64'>\n",
      "1\n",
      "<class 'numpy.int64'>\n",
      "1\n",
      "<class 'numpy.int64'>\n",
      "4\n",
      "<class 'numpy.int64'>\n",
      "4\n",
      "<class 'numpy.int64'>\n",
      "5\n",
      "<class 'numpy.int64'>\n",
      "5\n",
      "<class 'numpy.int64'>\n",
      "5\n",
      "<class 'numpy.int64'>\n",
      "8\n",
      "<class 'numpy.int64'>\n",
      "8\n",
      "<class 'numpy.int64'>\n",
      "8\n",
      "<class 'numpy.int64'>\n",
      "8\n",
      "<class 'numpy.int64'>\n",
      "8\n",
      "<class 'numpy.int64'>\n",
      "8\n",
      "<class 'numpy.int64'>\n",
      "8\n",
      "<class 'numpy.int64'>\n",
      "8\n",
      "<class 'numpy.int64'>\n",
      "8\n",
      "<class 'numpy.int64'>\n",
      "8\n",
      "<class 'numpy.int64'>\n",
      "8\n",
      "<class 'numpy.int64'>\n",
      "8\n",
      "<class 'numpy.int64'>\n",
      "8\n",
      "<class 'numpy.int64'>\n",
      "8\n",
      "<class 'numpy.int64'>\n",
      "8\n",
      "<class 'numpy.int64'>\n",
      "8\n",
      "<class 'numpy.int64'>\n",
      "8\n",
      "<class 'numpy.int64'>\n",
      "8\n",
      "<class 'numpy.int64'>\n",
      "1\n",
      "<class 'numpy.int64'>\n",
      "1\n",
      "<class 'numpy.int64'>\n",
      "1\n",
      "<class 'numpy.int64'>\n",
      "1\n",
      "<class 'numpy.int64'>\n",
      "1\n",
      "<class 'numpy.int64'>\n",
      "1\n",
      "<class 'numpy.int64'>\n",
      "1\n",
      "<class 'numpy.int64'>\n",
      "1\n",
      "<class 'numpy.int64'>\n",
      "1\n",
      "<class 'numpy.int64'>\n",
      "1\n",
      "<class 'numpy.int64'>\n",
      "2\n",
      "<class 'numpy.int64'>\n",
      "2\n",
      "<class 'numpy.int64'>\n",
      "2\n",
      "<class 'numpy.int64'>\n",
      "7\n",
      "<class 'numpy.int64'>\n",
      "7\n",
      "<class 'numpy.int64'>\n",
      "7\n",
      "<class 'numpy.int64'>\n",
      "7\n",
      "<class 'numpy.int64'>\n",
      "7\n",
      "<class 'numpy.int64'>\n",
      "7\n",
      "<class 'numpy.int64'>\n",
      "2\n",
      "<class 'numpy.int64'>\n",
      "2\n",
      "<class 'numpy.int64'>\n",
      "2\n",
      "<class 'numpy.int64'>\n",
      "2\n",
      "<class 'numpy.int64'>\n",
      "2\n",
      "<class 'numpy.int64'>\n",
      "2\n",
      "<class 'numpy.int64'>\n",
      "1\n",
      "<class 'numpy.int64'>\n",
      "1\n",
      "<class 'numpy.int64'>\n",
      "1\n",
      "<class 'numpy.int64'>\n",
      "1\n",
      "<class 'numpy.int64'>\n",
      "1\n",
      "<class 'numpy.int64'>\n",
      "1\n",
      "<class 'numpy.int64'>\n",
      "1\n",
      "<class 'numpy.int64'>\n",
      "1\n",
      "<class 'numpy.int64'>\n",
      "1\n",
      "<class 'numpy.int64'>\n",
      "1\n",
      "<class 'numpy.int64'>\n",
      "1\n",
      "<class 'numpy.int64'>\n",
      "1\n",
      "<class 'numpy.int64'>\n",
      "1\n",
      "<class 'numpy.int64'>\n",
      "1\n",
      "<class 'numpy.int64'>\n",
      "1\n",
      "<class 'numpy.int64'>\n",
      "1\n",
      "<class 'numpy.int64'>\n",
      "1\n",
      "<class 'numpy.int64'>\n",
      "1\n",
      "<class 'numpy.int64'>\n",
      "1\n",
      "<class 'numpy.int64'>\n",
      "5\n",
      "<class 'numpy.int64'>\n",
      "5\n",
      "<class 'numpy.int64'>\n",
      "5\n",
      "<class 'numpy.int64'>\n",
      "5\n",
      "<class 'numpy.int64'>\n",
      "1\n",
      "<class 'numpy.int64'>\n",
      "1\n",
      "<class 'numpy.int64'>\n",
      "1\n",
      "<class 'numpy.int64'>\n",
      "1\n",
      "<class 'numpy.int64'>\n",
      "1\n",
      "<class 'numpy.int64'>\n",
      "1\n",
      "<class 'numpy.int64'>\n",
      "1\n",
      "<class 'numpy.int64'>\n",
      "1\n",
      "<class 'numpy.int64'>\n",
      "1\n",
      "<class 'numpy.int64'>\n",
      "3\n",
      "<class 'numpy.int64'>\n",
      "3\n",
      "<class 'numpy.int64'>\n",
      "3\n",
      "<class 'numpy.int64'>\n",
      "3\n",
      "<class 'numpy.int64'>\n",
      "3\n",
      "<class 'numpy.int64'>\n",
      "3\n",
      "<class 'numpy.int64'>\n",
      "3\n",
      "<class 'numpy.int64'>\n",
      "5\n",
      "<class 'numpy.int64'>\n",
      "5\n",
      "<class 'numpy.int64'>\n",
      "5\n",
      "<class 'numpy.int64'>\n",
      "5\n",
      "<class 'numpy.int64'>\n",
      "5\n",
      "<class 'numpy.int64'>\n",
      "5\n",
      "<class 'numpy.int64'>\n",
      "1\n",
      "<class 'numpy.int64'>\n",
      "1\n",
      "<class 'numpy.int64'>\n",
      "1\n",
      "<class 'numpy.int64'>\n",
      "1\n",
      "<class 'numpy.int64'>\n",
      "5\n",
      "<class 'numpy.int64'>\n",
      "1\n",
      "<class 'numpy.int64'>\n",
      "1\n",
      "<class 'numpy.int64'>\n",
      "1\n",
      "<class 'numpy.int64'>\n",
      "1\n",
      "<class 'numpy.int64'>\n",
      "1\n",
      "<class 'numpy.int64'>\n",
      "1\n",
      "<class 'numpy.int64'>\n",
      "1\n",
      "<class 'numpy.int64'>\n",
      "1\n",
      "<class 'numpy.int64'>\n",
      "1\n",
      "<class 'numpy.int64'>\n",
      "1\n",
      "<class 'numpy.int64'>\n",
      "1\n",
      "<class 'numpy.int64'>\n",
      "5\n",
      "<class 'numpy.int64'>\n",
      "5\n",
      "<class 'numpy.int64'>\n",
      "5\n",
      "<class 'numpy.int64'>\n",
      "5\n",
      "<class 'numpy.int64'>\n",
      "5\n",
      "<class 'numpy.int64'>\n",
      "5\n",
      "<class 'numpy.int64'>\n",
      "5\n",
      "<class 'numpy.int64'>\n",
      "1\n",
      "<class 'numpy.int64'>\n",
      "1\n",
      "<class 'numpy.int64'>\n",
      "1\n",
      "<class 'numpy.int64'>\n",
      "1\n",
      "<class 'numpy.int64'>\n",
      "1\n",
      "<class 'numpy.int64'>\n",
      "1\n",
      "<class 'numpy.int64'>\n",
      "1\n",
      "<class 'numpy.int64'>\n",
      "1\n",
      "<class 'numpy.int64'>\n",
      "1\n",
      "<class 'numpy.int64'>\n",
      "1\n",
      "<class 'numpy.int64'>\n",
      "1\n",
      "<class 'numpy.int64'>\n",
      "1\n",
      "<class 'numpy.int64'>\n",
      "1\n",
      "<class 'numpy.int64'>\n",
      "1\n",
      "<class 'numpy.int64'>\n",
      "1\n",
      "<class 'numpy.int64'>\n",
      "5\n",
      "<class 'numpy.int64'>\n",
      "5\n",
      "<class 'numpy.int64'>\n",
      "1\n",
      "<class 'numpy.int64'>\n",
      "1\n",
      "<class 'numpy.int64'>\n",
      "1\n",
      "<class 'numpy.int64'>\n",
      "1\n",
      "<class 'numpy.int64'>\n",
      "1\n",
      "<class 'numpy.int64'>\n",
      "1\n",
      "<class 'numpy.int64'>\n",
      "1\n",
      "<class 'numpy.int64'>\n",
      "1\n",
      "<class 'numpy.int64'>\n",
      "1\n",
      "<class 'numpy.int64'>\n",
      "1\n",
      "<class 'numpy.int64'>\n",
      "1\n",
      "<class 'numpy.int64'>\n",
      "1\n",
      "<class 'numpy.int64'>\n",
      "1\n",
      "<class 'numpy.int64'>\n",
      "1\n",
      "<class 'numpy.int64'>\n",
      "1\n",
      "<class 'numpy.int64'>\n",
      "1\n",
      "<class 'numpy.int64'>\n",
      "1\n",
      "<class 'numpy.int64'>\n",
      "1\n",
      "<class 'numpy.int64'>\n",
      "1\n",
      "<class 'numpy.int64'>\n",
      "1\n",
      "<class 'numpy.int64'>\n",
      "1\n",
      "<class 'numpy.int64'>\n",
      "1\n",
      "<class 'numpy.int64'>\n",
      "1\n",
      "<class 'numpy.int64'>\n",
      "1\n",
      "<class 'numpy.int64'>\n",
      "1\n",
      "<class 'numpy.int64'>\n",
      "1\n",
      "<class 'numpy.int64'>\n",
      "1\n",
      "<class 'numpy.int64'>\n",
      "1\n",
      "<class 'numpy.int64'>\n",
      "1\n",
      "<class 'numpy.int64'>\n",
      "1\n",
      "<class 'numpy.int64'>\n",
      "1\n",
      "<class 'numpy.int64'>\n",
      "1\n",
      "<class 'numpy.int64'>\n",
      "1\n",
      "<class 'numpy.int64'>\n",
      "1\n",
      "<class 'numpy.int64'>\n",
      "1\n",
      "<class 'numpy.int64'>\n",
      "1\n",
      "<class 'numpy.int64'>\n",
      "1\n",
      "<class 'numpy.int64'>\n",
      "1\n",
      "<class 'numpy.int64'>\n",
      "1\n",
      "<class 'numpy.int64'>\n",
      "1\n",
      "<class 'numpy.int64'>\n",
      "1\n",
      "<class 'numpy.int64'>\n",
      "1\n",
      "<class 'numpy.int64'>\n",
      "1\n",
      "<class 'numpy.int64'>\n",
      "1\n",
      "<class 'numpy.int64'>\n",
      "1\n",
      "<class 'numpy.int64'>\n",
      "1\n",
      "<class 'numpy.int64'>\n",
      "1\n",
      "<class 'numpy.int64'>\n",
      "5\n",
      "<class 'numpy.int64'>\n",
      "5\n",
      "<class 'numpy.int64'>\n",
      "1\n",
      "<class 'numpy.int64'>\n",
      "5\n",
      "<class 'numpy.int64'>\n",
      "5\n",
      "<class 'numpy.int64'>\n",
      "1\n",
      "<class 'numpy.int64'>\n",
      "1\n",
      "<class 'numpy.int64'>\n",
      "1\n",
      "<class 'numpy.int64'>\n",
      "5\n",
      "<class 'numpy.int64'>\n",
      "1\n",
      "<class 'numpy.int64'>\n",
      "1\n",
      "<class 'numpy.int64'>\n",
      "1\n",
      "<class 'numpy.int64'>\n",
      "1\n",
      "<class 'numpy.int64'>\n",
      "1\n",
      "<class 'numpy.int64'>\n",
      "1\n",
      "<class 'numpy.int64'>\n",
      "5\n",
      "<class 'numpy.int64'>\n",
      "5\n",
      "<class 'numpy.int64'>\n",
      "5\n",
      "<class 'numpy.int64'>\n",
      "5\n",
      "<class 'numpy.int64'>\n",
      "1\n",
      "<class 'numpy.int64'>\n",
      "1\n",
      "<class 'numpy.int64'>\n",
      "1\n",
      "<class 'numpy.int64'>\n",
      "1\n",
      "<class 'numpy.int64'>\n",
      "1\n",
      "<class 'numpy.int64'>\n",
      "1\n",
      "<class 'numpy.int64'>\n",
      "1\n",
      "<class 'numpy.int64'>\n",
      "1\n",
      "<class 'numpy.int64'>\n",
      "1\n",
      "<class 'numpy.int64'>\n",
      "1\n",
      "<class 'numpy.int64'>\n",
      "1\n",
      "<class 'numpy.int64'>\n",
      "2\n",
      "<class 'numpy.int64'>\n",
      "2\n",
      "<class 'numpy.int64'>\n",
      "1\n",
      "<class 'numpy.int64'>\n",
      "3\n",
      "<class 'numpy.int64'>\n",
      "2\n",
      "<class 'numpy.int64'>\n",
      "5\n",
      "<class 'numpy.int64'>\n",
      "5\n",
      "<class 'numpy.int64'>\n",
      "5\n",
      "<class 'numpy.int64'>\n",
      "5\n",
      "<class 'numpy.int64'>\n",
      "5\n",
      "<class 'numpy.int64'>\n",
      "5\n",
      "<class 'numpy.int64'>\n",
      "5\n",
      "<class 'numpy.int64'>\n",
      "5\n",
      "<class 'numpy.int64'>\n",
      "5\n",
      "<class 'numpy.int64'>\n",
      "5\n",
      "<class 'numpy.int64'>\n",
      "5\n",
      "<class 'numpy.int64'>\n",
      "5\n",
      "<class 'numpy.int64'>\n",
      "5\n",
      "<class 'numpy.int64'>\n",
      "5\n",
      "<class 'numpy.int64'>\n",
      "5\n",
      "<class 'numpy.int64'>\n",
      "5\n",
      "<class 'numpy.int64'>\n",
      "1\n",
      "<class 'numpy.int64'>\n",
      "1\n",
      "<class 'numpy.int64'>\n",
      "1\n",
      "<class 'numpy.int64'>\n",
      "1\n",
      "<class 'numpy.int64'>\n",
      "1\n",
      "<class 'numpy.int64'>\n",
      "1\n",
      "<class 'numpy.int64'>\n",
      "5\n",
      "<class 'numpy.int64'>\n",
      "5\n",
      "<class 'numpy.int64'>\n",
      "5\n",
      "<class 'numpy.int64'>\n",
      "1\n",
      "<class 'numpy.int64'>\n",
      "1\n",
      "<class 'numpy.int64'>\n",
      "5\n",
      "<class 'numpy.int64'>\n",
      "5\n",
      "<class 'numpy.int64'>\n",
      "1\n",
      "<class 'numpy.int64'>\n",
      "1\n",
      "<class 'numpy.int64'>\n",
      "1\n",
      "<class 'numpy.int64'>\n",
      "1\n",
      "<class 'numpy.int64'>\n",
      "1\n",
      "<class 'numpy.int64'>\n",
      "1\n",
      "<class 'numpy.int64'>\n",
      "1\n",
      "<class 'numpy.int64'>\n",
      "1\n",
      "<class 'numpy.int64'>\n",
      "1\n",
      "<class 'numpy.int64'>\n",
      "1\n",
      "<class 'numpy.int64'>\n",
      "1\n",
      "<class 'numpy.int64'>\n",
      "1\n",
      "<class 'numpy.int64'>\n",
      "1\n",
      "<class 'numpy.int64'>\n",
      "1\n",
      "<class 'numpy.int64'>\n",
      "1\n",
      "<class 'numpy.int64'>\n",
      "1\n",
      "<class 'numpy.int64'>\n",
      "1\n",
      "<class 'numpy.int64'>\n",
      "3\n",
      "<class 'numpy.int64'>\n",
      "5\n",
      "<class 'numpy.int64'>\n",
      "5\n",
      "<class 'numpy.int64'>\n",
      "3\n",
      "<class 'numpy.int64'>\n",
      "3\n",
      "<class 'numpy.int64'>\n",
      "3\n",
      "<class 'numpy.int64'>\n",
      "3\n",
      "<class 'numpy.int64'>\n",
      "3\n",
      "<class 'numpy.int64'>\n",
      "5\n",
      "<class 'numpy.int64'>\n",
      "5\n",
      "<class 'numpy.int64'>\n",
      "3\n",
      "<class 'numpy.int64'>\n",
      "3\n",
      "<class 'numpy.int64'>\n",
      "3\n",
      "<class 'numpy.int64'>\n",
      "3\n",
      "<class 'numpy.int64'>\n",
      "3\n",
      "<class 'numpy.int64'>\n",
      "3\n",
      "<class 'numpy.int64'>\n",
      "3\n",
      "<class 'numpy.int64'>\n",
      "5\n",
      "<class 'numpy.int64'>\n",
      "5\n",
      "<class 'numpy.int64'>\n",
      "5\n",
      "<class 'numpy.int64'>\n",
      "3\n",
      "<class 'numpy.int64'>\n",
      "3\n",
      "<class 'numpy.int64'>\n",
      "3\n",
      "<class 'numpy.int64'>\n",
      "3\n",
      "<class 'numpy.int64'>\n",
      "3\n",
      "<class 'numpy.int64'>\n",
      "3\n",
      "<class 'numpy.int64'>\n",
      "3\n",
      "<class 'numpy.int64'>\n",
      "3\n",
      "<class 'numpy.int64'>\n",
      "3\n",
      "<class 'numpy.int64'>\n",
      "3\n",
      "<class 'numpy.int64'>\n",
      "3\n",
      "<class 'numpy.int64'>\n",
      "3\n",
      "<class 'numpy.int64'>\n",
      "3\n",
      "<class 'numpy.int64'>\n",
      "3\n",
      "<class 'numpy.int64'>\n",
      "3\n",
      "<class 'numpy.int64'>\n",
      "3\n",
      "<class 'numpy.int64'>\n",
      "3\n",
      "<class 'numpy.int64'>\n",
      "3\n",
      "<class 'numpy.int64'>\n",
      "3\n",
      "<class 'numpy.int64'>\n",
      "3\n",
      "<class 'numpy.int64'>\n",
      "3\n",
      "<class 'numpy.int64'>\n",
      "3\n",
      "<class 'numpy.int64'>\n",
      "3\n",
      "<class 'numpy.int64'>\n",
      "3\n",
      "<class 'numpy.int64'>\n",
      "3\n",
      "<class 'numpy.int64'>\n",
      "3\n",
      "<class 'numpy.int64'>\n",
      "3\n",
      "<class 'numpy.int64'>\n",
      "3\n",
      "<class 'numpy.int64'>\n",
      "3\n",
      "<class 'numpy.int64'>\n",
      "3\n",
      "<class 'numpy.int64'>\n",
      "3\n",
      "<class 'numpy.int64'>\n",
      "3\n",
      "<class 'numpy.int64'>\n",
      "3\n",
      "<class 'numpy.int64'>\n",
      "3\n",
      "<class 'numpy.int64'>\n",
      "3\n",
      "<class 'numpy.int64'>\n"
     ]
    },
    {
     "ename": "error",
     "evalue": "OpenCV(4.5.3) C:\\Users\\runneradmin\\AppData\\Local\\Temp\\pip-req-build-q3d_8t8e\\opencv\\modules\\imgproc\\src\\color.cpp:182: error: (-215:Assertion failed) !_src.empty() in function 'cv::cvtColor'\n",
     "output_type": "error",
     "traceback": [
      "\u001b[1;31m---------------------------------------------------------------------------\u001b[0m",
      "\u001b[1;31merror\u001b[0m                                     Traceback (most recent call last)",
      "\u001b[1;32m<ipython-input-45-809c1fcbb276>\u001b[0m in \u001b[0;36m<module>\u001b[1;34m\u001b[0m\n\u001b[0;32m     19\u001b[0m     \u001b[0mcntr\u001b[0m\u001b[1;33m=\u001b[0m\u001b[0mcntr\u001b[0m\u001b[1;33m+\u001b[0m\u001b[1;36m1\u001b[0m\u001b[1;33m;\u001b[0m\u001b[1;33m\u001b[0m\u001b[1;33m\u001b[0m\u001b[0m\n\u001b[0;32m     20\u001b[0m     \u001b[1;32mif\u001b[0m\u001b[1;33m(\u001b[0m\u001b[1;33m(\u001b[0m\u001b[0mcntr\u001b[0m\u001b[1;33m%\u001b[0m\u001b[1;36m2\u001b[0m\u001b[1;33m)\u001b[0m\u001b[1;33m==\u001b[0m\u001b[1;36m0\u001b[0m\u001b[1;33m)\u001b[0m\u001b[1;33m:\u001b[0m\u001b[1;33m\u001b[0m\u001b[1;33m\u001b[0m\u001b[0m\n\u001b[1;32m---> 21\u001b[1;33m         \u001b[0mgray\u001b[0m\u001b[1;33m=\u001b[0m\u001b[0mcv2\u001b[0m\u001b[1;33m.\u001b[0m\u001b[0mcvtColor\u001b[0m\u001b[1;33m(\u001b[0m\u001b[0mframe\u001b[0m\u001b[1;33m,\u001b[0m\u001b[0mcv2\u001b[0m\u001b[1;33m.\u001b[0m\u001b[0mCOLOR_BGR2GRAY\u001b[0m\u001b[1;33m)\u001b[0m\u001b[1;33m\u001b[0m\u001b[1;33m\u001b[0m\u001b[0m\n\u001b[0m\u001b[0;32m     22\u001b[0m         \u001b[0mresized\u001b[0m\u001b[1;33m=\u001b[0m\u001b[0mcv2\u001b[0m\u001b[1;33m.\u001b[0m\u001b[0mresize\u001b[0m\u001b[1;33m(\u001b[0m\u001b[0mgray\u001b[0m\u001b[1;33m,\u001b[0m\u001b[1;33m(\u001b[0m\u001b[1;36m28\u001b[0m\u001b[1;33m,\u001b[0m\u001b[1;36m28\u001b[0m\u001b[1;33m)\u001b[0m\u001b[1;33m,\u001b[0m\u001b[0minterpolation\u001b[0m\u001b[1;33m=\u001b[0m\u001b[0mcv2\u001b[0m\u001b[1;33m.\u001b[0m\u001b[0mINTER_AREA\u001b[0m\u001b[1;33m)\u001b[0m\u001b[1;33m\u001b[0m\u001b[1;33m\u001b[0m\u001b[0m\n\u001b[0;32m     23\u001b[0m         \u001b[0mnew\u001b[0m\u001b[1;33m=\u001b[0m\u001b[0mtf\u001b[0m\u001b[1;33m.\u001b[0m\u001b[0mkeras\u001b[0m\u001b[1;33m.\u001b[0m\u001b[0mutils\u001b[0m\u001b[1;33m.\u001b[0m\u001b[0mnormalize\u001b[0m\u001b[1;33m(\u001b[0m\u001b[0mresized\u001b[0m\u001b[1;33m,\u001b[0m\u001b[0maxis\u001b[0m\u001b[1;33m=\u001b[0m\u001b[1;36m1\u001b[0m\u001b[1;33m)\u001b[0m\u001b[1;33m\u001b[0m\u001b[1;33m\u001b[0m\u001b[0m\n",
      "\u001b[1;31merror\u001b[0m: OpenCV(4.5.3) C:\\Users\\runneradmin\\AppData\\Local\\Temp\\pip-req-build-q3d_8t8e\\opencv\\modules\\imgproc\\src\\color.cpp:182: error: (-215:Assertion failed) !_src.empty() in function 'cv::cvtColor'\n"
     ]
    }
   ],
   "source": [
    "font_scale=1.5\n",
    "font=cv2.FONT_HERSHEY_PLAIN\n",
    "video = cv2.VideoCapture(\"C:/Users/chand/OneDrive/Documents/Bandicam/digit.mp4\")\n",
    "if not video.isOpened():\n",
    "    video=cv2.VideoCapture(0)\n",
    "if not video.isOpened():\n",
    "    raise IOError(\"can't open webcam\")\n",
    "\n",
    "font=cv2.FONT_HERSHEY_PLAIN\n",
    "font_scale=1.5\n",
    "text =\"some text\"\n",
    "(text_width,text_height)=cv2.getTextSize(text,font,fontScale=font_scale,thickness=1)[0]\n",
    "(text_offset_x)=10\n",
    "text_offset_y=img.shape[0] - 25\n",
    "box_coords=((text_offset_x,text_offset_y),(text_offset_x + text_width + 2 ,text_offset_y - text_height - 2))\n",
    "cntr=0\n",
    "while True:\n",
    "    ret,frame=video.read()\n",
    "    cntr=cntr+1;\n",
    "    if((cntr%2)==0):\n",
    "        gray=cv2.cvtColor(frame,cv2.COLOR_BGR2GRAY)\n",
    "        resized=cv2.resize(gray,(28,28),interpolation=cv2.INTER_AREA)\n",
    "        new=tf.keras.utils.normalize(resized,axis=1)\n",
    "        new=np.array(new).reshape(-1,28,28,1)\n",
    "            \n",
    "        predictions=model.predict(new)\n",
    "        status=np.argmax(predictions)\n",
    "        print(status)\n",
    "        print(type(status))\n",
    "        x1,y1,w1,h1=0,0,175,75\n",
    "        cv2.rectangle(frame,(x1,x1),(x1+w1,y1+h1),(0,0,0),-1)\n",
    "        cv2.putText(frame,status.astype(str),(x1+int(w1/5),y1+int(h1/2)),cv2.FONT_HERSHEY_SIMPLEX,0.7,(0,0,255),2)\n",
    "            \n",
    "        cv2.imshow('Handwritten Digit Recognition',frame)\n",
    "        if cv2.waitKey(2) & 0xFF == ord('q'):\n",
    "            break\n",
    "video.release()\n",
    "cv2.destroyAllWindows()"
   ]
  },
  {
   "cell_type": "code",
   "execution_count": null,
   "id": "79de6718",
   "metadata": {},
   "outputs": [],
   "source": []
  }
 ],
 "metadata": {
  "kernelspec": {
   "display_name": "Python 3",
   "language": "python",
   "name": "python3"
  },
  "language_info": {
   "codemirror_mode": {
    "name": "ipython",
    "version": 3
   },
   "file_extension": ".py",
   "mimetype": "text/x-python",
   "name": "python",
   "nbconvert_exporter": "python",
   "pygments_lexer": "ipython3",
   "version": "3.8.10"
  }
 },
 "nbformat": 4,
 "nbformat_minor": 5
}
